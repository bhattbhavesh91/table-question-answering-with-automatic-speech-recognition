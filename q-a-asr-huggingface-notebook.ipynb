{
  "nbformat": 4,
  "nbformat_minor": 0,
  "metadata": {
    "colab": {
      "name": "q_a_asr_hugging_face_notebook.ipynb",
      "provenance": [],
      "collapsed_sections": []
    },
    "kernelspec": {
      "name": "python3",
      "display_name": "Python 3"
    },
    "language_info": {
      "name": "python"
    }
  },
  "cells": [
    {
      "cell_type": "markdown",
      "source": [
        "## Bhavesh Bhatt\n",
        "[My YouTube channel](https://www.youtube.com/BhaveshBhatt8791)"
      ],
      "metadata": {
        "id": "_31ceTFEsfrO"
      }
    },
    {
      "cell_type": "markdown",
      "source": [
        "# Installs"
      ],
      "metadata": {
        "id": "iAsOSzU6hwHX"
      }
    },
    {
      "cell_type": "code",
      "source": [
        "!pip install -q gradio"
      ],
      "metadata": {
        "id": "cD2V0ZCFJ_JQ"
      },
      "execution_count": null,
      "outputs": []
    },
    {
      "cell_type": "markdown",
      "source": [
        "# Imports"
      ],
      "metadata": {
        "id": "hYlEdTdIhzCp"
      }
    },
    {
      "cell_type": "code",
      "source": [
        "import json\n",
        "import requests\n",
        "import pandas as pd\n",
        "import gradio as gr\n",
        "import librosa\n",
        "import soundfile as sf\n",
        "import torch\n",
        "import warnings"
      ],
      "metadata": {
        "id": "LgW2nAeICumd"
      },
      "execution_count": null,
      "outputs": []
    },
    {
      "cell_type": "markdown",
      "source": [
        "# HuggingFace API Key"
      ],
      "metadata": {
        "id": "ZAc8we07icSG"
      }
    },
    {
      "cell_type": "code",
      "source": [
        "with open('HF_SECRET_KEY.json') as f:\n",
        "    hf_data = json.load(f)"
      ],
      "metadata": {
        "id": "VAaBGmqoiTZO"
      },
      "execution_count": null,
      "outputs": []
    },
    {
      "cell_type": "code",
      "execution_count": null,
      "metadata": {
        "id": "VXTaHd-V_xiW"
      },
      "outputs": [],
      "source": [
        "API_TOKEN = hf_data[\"API_KEY\"]"
      ]
    },
    {
      "cell_type": "markdown",
      "source": [
        "# Defining End Points"
      ],
      "metadata": {
        "id": "SNaneLxWiijw"
      }
    },
    {
      "cell_type": "code",
      "source": [
        "# https://api-inference.huggingface.co/docs/python/html/detailed_parameters.html"
      ],
      "metadata": {
        "id": "Tjcj_g0ZtH4D"
      },
      "execution_count": null,
      "outputs": []
    },
    {
      "cell_type": "code",
      "source": [
        "ASR_API_URL = \"https://api-inference.huggingface.co/models/facebook/wav2vec2-base-960h\"\n",
        "Q_A_API_URL = \"https://api-inference.huggingface.co/models/google/tapas-base-finetuned-wtq\""
      ],
      "metadata": {
        "id": "gT6reyd0C9fE"
      },
      "execution_count": null,
      "outputs": []
    },
    {
      "cell_type": "code",
      "source": [
        "headers = {\"Authorization\": f\"Bearer {API_TOKEN}\"}"
      ],
      "metadata": {
        "id": "UTLnYHRQC9br"
      },
      "execution_count": null,
      "outputs": []
    },
    {
      "cell_type": "markdown",
      "source": [
        "# Query Functions"
      ],
      "metadata": {
        "id": "4JUKdarzilZ1"
      }
    },
    {
      "cell_type": "code",
      "source": [
        "def q_n_a_query(payload):\n",
        "    \n",
        "    data = json.dumps(payload)\n",
        "    response = requests.request(\"POST\", \n",
        "                                Q_A_API_URL, \n",
        "                                headers=headers, \n",
        "                                data=data)\n",
        "    return json.loads(response.content.decode(\"utf-8\"))"
      ],
      "metadata": {
        "id": "9Fkxynn4Bm0K"
      },
      "execution_count": null,
      "outputs": []
    },
    {
      "cell_type": "code",
      "source": [
        "def asr_query(audio_file):\n",
        "    \n",
        "    sr, data = audio_file\n",
        "    sf.write(\"temp.wav\", data, 44100)\n",
        "    with open(\"temp.wav\", \"rb\") as f:\n",
        "        data = f.read()\n",
        "    response = requests.request(\"POST\", \n",
        "                                ASR_API_URL, \n",
        "                                headers=headers, \n",
        "                                data=data)\n",
        "    \n",
        "    output = json.loads(response.content.decode(\"utf-8\"))\n",
        "    \n",
        "    table_query = output[\"text\"]\n",
        "    \n",
        "    data = q_n_a_query({\n",
        "            \"inputs\": {\n",
        "            \"query\": table_query,\n",
        "            \"table\": table.to_dict('list')}})\n",
        "    \n",
        "    result = data[\"answer\"]\n",
        "    return table, table_query, result"
      ],
      "metadata": {
        "id": "0164of86EIFq"
      },
      "execution_count": null,
      "outputs": []
    },
    {
      "cell_type": "markdown",
      "source": [
        "# Load Data"
      ],
      "metadata": {
        "id": "mmxKyh6Qin1k"
      }
    },
    {
      "cell_type": "code",
      "source": [
        "table = pd.read_csv(\"data.csv\")"
      ],
      "metadata": {
        "id": "R0iozXehKEWk"
      },
      "execution_count": null,
      "outputs": []
    },
    {
      "cell_type": "code",
      "source": [
        "table.head(3)"
      ],
      "metadata": {
        "id": "qQ8Vq-Z2tToE"
      },
      "execution_count": null,
      "outputs": []
    },
    {
      "cell_type": "code",
      "source": [
        "table = table.astype(str)"
      ],
      "metadata": {
        "id": "R1fwS3tttUA_"
      },
      "execution_count": null,
      "outputs": []
    },
    {
      "cell_type": "markdown",
      "source": [
        "# Define the Interface"
      ],
      "metadata": {
        "id": "6iWgDxv2ir8i"
      }
    },
    {
      "cell_type": "code",
      "source": [
        "iface = gr.Interface(asr_query, \"microphone\", [\"dataframe\", \n",
        "                                               \"text\", \n",
        "                                               \"text\"])\n",
        "iface.launch(debug=True)"
      ],
      "metadata": {
        "id": "eO4yFoHpGx3W"
      },
      "execution_count": null,
      "outputs": []
    }
  ]
}